{
  "nbformat": 4,
  "nbformat_minor": 0,
  "metadata": {
    "colab": {
      "provenance": []
    },
    "kernelspec": {
      "name": "python3",
      "display_name": "Python 3"
    },
    "language_info": {
      "name": "python"
    }
  },
  "cells": [
    {
      "cell_type": "code",
      "execution_count": 1,
      "metadata": {
        "colab": {
          "base_uri": "https://localhost:8080/"
        },
        "id": "AqEOQnoYnqpB",
        "outputId": "9066fbd9-0497-46af-da75-838dbabf5784"
      },
      "outputs": [
        {
          "output_type": "stream",
          "name": "stdout",
          "text": [
            "\u001b[?25l   \u001b[90m━━━━━━━━━━━━━━━━━━━━━━━━━━━━━━━━━━━━━━━━\u001b[0m \u001b[32m0.0/382.3 kB\u001b[0m \u001b[31m?\u001b[0m eta \u001b[36m-:--:--\u001b[0m\r\u001b[2K   \u001b[91m━━━━━━━━━━━━━━━━━━━━━━━━━━━━━━━━━━━━━━━\u001b[0m\u001b[91m╸\u001b[0m \u001b[32m378.9/382.3 kB\u001b[0m \u001b[31m21.1 MB/s\u001b[0m eta \u001b[36m0:00:01\u001b[0m\r\u001b[2K   \u001b[90m━━━━━━━━━━━━━━━━━━━━━━━━━━━━━━━━━━━━━━━━\u001b[0m \u001b[32m382.3/382.3 kB\u001b[0m \u001b[31m9.8 MB/s\u001b[0m eta \u001b[36m0:00:00\u001b[0m\n",
            "\u001b[?25h\u001b[?25l   \u001b[90m━━━━━━━━━━━━━━━━━━━━━━━━━━━━━━━━━━━━━━━━\u001b[0m \u001b[32m0.0/73.5 kB\u001b[0m \u001b[31m?\u001b[0m eta \u001b[36m-:--:--\u001b[0m\r\u001b[2K   \u001b[90m━━━━━━━━━━━━━━━━━━━━━━━━━━━━━━━━━━━━━━━━\u001b[0m \u001b[32m73.5/73.5 kB\u001b[0m \u001b[31m4.8 MB/s\u001b[0m eta \u001b[36m0:00:00\u001b[0m\n",
            "\u001b[2K   \u001b[90m━━━━━━━━━━━━━━━━━━━━━━━━━━━━━━━━━━━━━━━━\u001b[0m \u001b[32m45.5/45.5 kB\u001b[0m \u001b[31m1.6 MB/s\u001b[0m eta \u001b[36m0:00:00\u001b[0m\n",
            "\u001b[2K   \u001b[90m━━━━━━━━━━━━━━━━━━━━━━━━━━━━━━━━━━━━━━━━\u001b[0m \u001b[32m147.8/147.8 kB\u001b[0m \u001b[31m6.6 MB/s\u001b[0m eta \u001b[36m0:00:00\u001b[0m\n",
            "\u001b[2K   \u001b[90m━━━━━━━━━━━━━━━━━━━━━━━━━━━━━━━━━━━━━━━━\u001b[0m \u001b[32m314.2/314.2 kB\u001b[0m \u001b[31m16.5 MB/s\u001b[0m eta \u001b[36m0:00:00\u001b[0m\n",
            "\u001b[2K   \u001b[90m━━━━━━━━━━━━━━━━━━━━━━━━━━━━━━━━━━━━━━━━\u001b[0m \u001b[32m1.2/1.2 MB\u001b[0m \u001b[31m35.0 MB/s\u001b[0m eta \u001b[36m0:00:00\u001b[0m\n",
            "\u001b[?25h"
          ]
        }
      ],
      "source": [
        "! pip install -qqq autogen-agentchat~=0.2 apify-client"
      ]
    },
    {
      "cell_type": "code",
      "source": [
        "import os\n",
        "\n",
        "from google.colab import userdata\n",
        "api_key=userdata.get('open_ai')\n",
        "\n",
        "config_list = [\n",
        "    {\"model\": \"gpt-4\", \"api_key\": api_key},\n",
        "]\n",
        "apify_api_key =userdata.get('apify')"
      ],
      "metadata": {
        "id": "DL-Nu6Ypnya2"
      },
      "execution_count": 5,
      "outputs": []
    },
    {
      "cell_type": "code",
      "source": [
        "from apify_client import ApifyClient\n",
        "from typing_extensions import Annotated\n",
        "\n",
        "\n",
        "def scrape_page(url: Annotated[str, \"The URL of the web page to scrape\"]) -> Annotated[str, \"Scraped content\"]:\n",
        "    # Initialize the ApifyClient with your API token\n",
        "    client = ApifyClient(token=apify_api_key)\n",
        "\n",
        "    # Prepare the Actor input\n",
        "    run_input = {\n",
        "        \"startUrls\": [{\"url\": url}],\n",
        "        \"useSitemaps\": False,\n",
        "        \"crawlerType\": \"playwright:firefox\",\n",
        "        \"includeUrlGlobs\": [],\n",
        "        \"excludeUrlGlobs\": [],\n",
        "        \"ignoreCanonicalUrl\": False,\n",
        "        \"maxCrawlDepth\": 0,\n",
        "        \"maxCrawlPages\": 1,\n",
        "        \"initialConcurrency\": 0,\n",
        "        \"maxConcurrency\": 200,\n",
        "        \"initialCookies\": [],\n",
        "        \"proxyConfiguration\": {\"useApifyProxy\": True},\n",
        "        \"maxSessionRotations\": 10,\n",
        "        \"maxRequestRetries\": 5,\n",
        "        \"requestTimeoutSecs\": 60,\n",
        "        \"dynamicContentWaitSecs\": 10,\n",
        "        \"maxScrollHeightPixels\": 5000,\n",
        "        \"removeElementsCssSelector\": \"\"\"nav, footer, script, style, noscript, svg,\n",
        "    [role=\\\"alert\\\"],\n",
        "    [role=\\\"banner\\\"],\n",
        "    [role=\\\"dialog\\\"],\n",
        "    [role=\\\"alertdialog\\\"],\n",
        "    [role=\\\"region\\\"][aria-label*=\\\"skip\\\" i],\n",
        "    [aria-modal=\\\"true\\\"]\"\"\",\n",
        "        \"removeCookieWarnings\": True,\n",
        "        \"clickElementsCssSelector\": '[aria-expanded=\"false\"]',\n",
        "        \"htmlTransformer\": \"readableText\",\n",
        "        \"readableTextCharThreshold\": 100,\n",
        "        \"aggressivePrune\": False,\n",
        "        \"debugMode\": True,\n",
        "        \"debugLog\": True,\n",
        "        \"saveHtml\": True,\n",
        "        \"saveMarkdown\": True,\n",
        "        \"saveFiles\": False,\n",
        "        \"saveScreenshots\": False,\n",
        "        \"maxResults\": 9999999,\n",
        "        \"clientSideMinChangePercentage\": 15,\n",
        "        \"renderingTypeDetectionPercentage\": 10,\n",
        "    }\n",
        "\n",
        "    # Run the Actor and wait for it to finish\n",
        "    run = client.actor(\"aYG0l9s7dbB7j3gbS\").call(run_input=run_input)\n",
        "\n",
        "    # Fetch and print Actor results from the run's dataset (if there are any)\n",
        "    text_data = \"\"\n",
        "    for item in client.dataset(run[\"defaultDatasetId\"]).iterate_items():\n",
        "        text_data += item.get(\"text\", \"\") + \"\\n\"\n",
        "\n",
        "    average_token = 0.75\n",
        "    max_tokens = 20000  # slightly less than max to be safe 32k\n",
        "    text_data = text_data[: int(average_token * max_tokens)]\n",
        "    return text_data"
      ],
      "metadata": {
        "id": "_L-RZ8tDofdT"
      },
      "execution_count": 3,
      "outputs": []
    },
    {
      "cell_type": "code",
      "source": [
        "from autogen import ConversableAgent, register_function\n",
        "\n",
        "# Create web scrapper agent.\n",
        "scraper_agent = ConversableAgent(\n",
        "    \"WebScraper\",\n",
        "    llm_config={\"config_list\": config_list},\n",
        "    system_message=\"You are a web scrapper and you can scrape any web page using the tools provided. \"\n",
        "    \"Returns 'TERMINATE' when the scraping is done.\",\n",
        ")\n",
        "\n",
        "# Create user proxy agent.\n",
        "user_proxy_agent = ConversableAgent(\n",
        "    \"UserProxy\",\n",
        "    llm_config=False,  # No LLM for this agent.\n",
        "    human_input_mode=\"NEVER\",\n",
        "    code_execution_config=False,  # No code execution for this agent.\n",
        "    is_termination_msg=lambda x: x.get(\"content\", \"\") is not None and \"terminate\" in x[\"content\"].lower(),\n",
        "    default_auto_reply=\"Please continue if not finished, otherwise return 'TERMINATE'.\",\n",
        ")\n",
        "\n",
        "# Register the function with the agents.\n",
        "register_function(\n",
        "    scrape_page,\n",
        "    caller=scraper_agent,\n",
        "    executor=user_proxy_agent,\n",
        "    name=\"scrape_page\",\n",
        "    description=\"Scrape a web page and return the content.\",\n",
        ")"
      ],
      "metadata": {
        "id": "k4OZxp1XomNt"
      },
      "execution_count": 6,
      "outputs": []
    },
    {
      "cell_type": "code",
      "source": [
        "chat_result = user_proxy_agent.initiate_chat(\n",
        "    scraper_agent,\n",
        "    message=\"Can you scrape https://www.chumsai.in/ for me?\",\n",
        "    summary_method=\"reflection_with_llm\",\n",
        "    summary_args={\n",
        "        \"summary_prompt\": \"\"\"Summarize the scraped content and format summary EXACTLY as follows:\n",
        "---\n",
        "*Company name*:\n",
        "`Acme Corp`\n",
        "---\n",
        "*Website*:\n",
        "`acmecorp.com`\n",
        "---\n",
        "*Description*:\n",
        "`Company that does things.`\n",
        "---\n",
        "*Tags*:\n",
        "`Manufacturing. Retail. E-commerce.`\n",
        "---\n",
        "*Takeaways*:\n",
        "`Provides shareholders with value by selling products.`\n",
        "---\n",
        "*Questions*:\n",
        "`What products do they sell? How do they make money? What is their market share?`\n",
        "---\n",
        "\"\"\"\n",
        "    },\n",
        ")"
      ],
      "metadata": {
        "colab": {
          "base_uri": "https://localhost:8080/"
        },
        "id": "c68VfVC5opG5",
        "outputId": "c774e07e-aefb-4c4e-8ff5-a9bfe00d41a7"
      },
      "execution_count": 11,
      "outputs": [
        {
          "output_type": "stream",
          "name": "stdout",
          "text": [
            "UserProxy (to WebScraper):\n",
            "\n",
            "Can you scrape https://www.chumsai.in/ for me?\n",
            "\n",
            "--------------------------------------------------------------------------------\n",
            "\n",
            ">>>>>>>> USING AUTO REPLY...\n",
            "WebScraper (to UserProxy):\n",
            "\n",
            "***** Suggested tool call (call_W70iN36deBJzDt9zTH3wxyq2): scrape_page *****\n",
            "Arguments: \n",
            "{\n",
            "  \"url\": \"https://www.chumsai.in/\"\n",
            "}\n",
            "****************************************************************************\n",
            "\n",
            "--------------------------------------------------------------------------------\n",
            "\n",
            ">>>>>>>> EXECUTING FUNCTION scrape_page...\n",
            "UserProxy (to WebScraper):\n",
            "\n",
            "UserProxy (to WebScraper):\n",
            "\n",
            "***** Response from calling tool (call_W70iN36deBJzDt9zTH3wxyq2) *****\n",
            "Chums AI\n",
            "Virtual Human Assistant\n",
            "Personalized AI humanoid empowering your day\n",
            "Our Partners and Affiliates\n",
            "Microsoft for startups Founders Hub\n",
            "Google Startup India\n",
            "Research Innovation Incubation Design Lab\n",
            "Microsoft for startups Founders Hub\n",
            "Google Startup India\n",
            "Research Innovation Incubation Design Lab\n",
            "Features\n",
            "Features that make us stand out\n",
            "We provide a wide range of features that make us stand out from the rest. Our features are designed to provide you with a seamless experience.\n",
            "AI-Powered\n",
            "A conversational AI platform with advanced speech recognition, natural language processing, and complex query understanding.\n",
            "Visual Intelligence\n",
            "Experience cutting-edge 3D visualization that brings data to life with exceptional clarity and detail.\n",
            "Real Time\n",
            "An advanced online learning algorithm that processes and adapts to new data instantly for up-to-date insights.\n",
            "Voice Call\n",
            "Engage in natural, real-time conversations with your AI companion, available to assist you anytime.\n",
            "Seamless Integrations\n",
            "Easily integrates with your systems through powerful REST APIs and comprehensive SDKs for smooth functionality.\n",
            "Video Call\n",
            "Connect face-to-face with AI through high-quality video calls for an enhanced interaction experience.\n",
            "Supports 40 Languages\n",
            "Communicate effortlessly as the AI understands and speaks over 40 different languages fluently.\n",
            "Vision Capabilities\n",
            "Advanced vision capabilities allow the AI to recognize and interpret objects and images in real-time.\n",
            "The best virtual 3D interactive avatar experience\n",
            "Our vision\n",
            "Our goal is to make AI companionship a seamless part of your life.\n",
            "Subscribe to our newsletter\n",
            "Get updates about new features on your email \n",
            "by subscribing to our news letter subscription\n",
            "\n",
            "**********************************************************************\n",
            "\n",
            "--------------------------------------------------------------------------------\n",
            "\n",
            ">>>>>>>> USING AUTO REPLY...\n",
            "WebScraper (to UserProxy):\n",
            "\n",
            "TERMINATE\n",
            "\n",
            "--------------------------------------------------------------------------------\n"
          ]
        }
      ]
    },
    {
      "cell_type": "code",
      "source": [
        "print(chat_result.summary)"
      ],
      "metadata": {
        "colab": {
          "base_uri": "https://localhost:8080/"
        },
        "id": "IU3gWV10o29f",
        "outputId": "501e3388-c96a-4d51-b1ea-d2936eb0787c"
      },
      "execution_count": 12,
      "outputs": [
        {
          "output_type": "stream",
          "name": "stdout",
          "text": [
            "---\n",
            "*Company name*:\n",
            "`Chums AI`\n",
            "---\n",
            "*Website*:\n",
            "`https://www.chumsai.in/`\n",
            "---\n",
            "*Description*:\n",
            "`Chums AI is a company that provides a personalized AI humanoid to empower your day.`\n",
            "---\n",
            "*Tags*:\n",
            "`AI-Powered, Visual Intelligence, Real Time, Voice Call, Seamless Integrations, Video Call, Supports 40 Languages, Vision Capabilities.`\n",
            "---\n",
            "*Takeaways*:\n",
            "`They provide a wide range of features including advanced speech recognition, natural language processing, 3D visualization, real-time learning algorithm, and support for over 40 languages. Their product can recognize and interpret objects in real time.`\n",
            "---\n",
            "*Questions*:\n",
            "`What specific applications does their product have? How does the real-time learning algorithm work? How is the product integrated into existing systems?`\n",
            "---\n",
            "\n"
          ]
        }
      ]
    },
    {
      "cell_type": "code",
      "source": [],
      "metadata": {
        "id": "n5oCQWE5pL4l"
      },
      "execution_count": null,
      "outputs": []
    }
  ]
}